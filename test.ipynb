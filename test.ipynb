{
 "cells": [
  {
   "cell_type": "code",
   "execution_count": 3,
   "id": "c4693eb4",
   "metadata": {},
   "outputs": [
    {
     "data": {
      "text/plain": [
       "(        id       Datum  Warengruppe      Umsatz\n",
       " 0  1307011  2013-07-01            1  148.828353\n",
       " 1  1307021  2013-07-02            1  159.793757\n",
       " 2  1307031  2013-07-03            1  111.885594\n",
       " 3  1307041  2013-07-04            1  168.864941\n",
       " 4  1307051  2013-07-05            1  171.280754,\n",
       "         Datum  KielerWoche\n",
       " 0  2012-06-16            1\n",
       " 1  2012-06-17            1\n",
       " 2  2012-06-18            1\n",
       " 3  2012-06-19            1\n",
       " 4  2012-06-20            1,\n",
       "         Datum  Bewoelkung  Temperatur  Windgeschwindigkeit  Wettercode\n",
       " 0  2012-01-01         8.0      9.8250                   14        58.0\n",
       " 1  2012-01-02         7.0      7.4375                   12         NaN\n",
       " 2  2012-01-03         8.0      5.5375                   18        63.0\n",
       " 3  2012-01-04         4.0      5.6875                   19        80.0\n",
       " 4  2012-01-05         6.0      5.3000                   23        80.0)"
      ]
     },
     "execution_count": 3,
     "metadata": {},
     "output_type": "execute_result"
    }
   ],
   "source": [
    "import pandas as pd\n",
    "\n",
    "# Load the CSV files\n",
    "umsatz_df = pd.read_csv('umsatzdaten_gekuerzt.csv')\n",
    "kiwo_df = pd.read_csv('kiwo.csv')\n",
    "wetter_df = pd.read_csv('wetter.csv')\n",
    "\n",
    "# Display the first few rows and column names to understand the structure\n",
    "umsatz_df.head(), kiwo_df.head(), wetter_df.head()"
   ]
  },
  {
   "cell_type": "code",
   "execution_count": null,
   "id": "cccecf38",
   "metadata": {},
   "outputs": [],
   "source": []
  }
 ],
 "metadata": {
  "kernelspec": {
   "display_name": "Python 3",
   "language": "python",
   "name": "python3"
  },
  "language_info": {
   "codemirror_mode": {
    "name": "ipython",
    "version": 3
   },
   "file_extension": ".py",
   "mimetype": "text/x-python",
   "name": "python",
   "nbconvert_exporter": "python",
   "pygments_lexer": "ipython3",
   "version": "3.12.1"
  }
 },
 "nbformat": 4,
 "nbformat_minor": 5
}
